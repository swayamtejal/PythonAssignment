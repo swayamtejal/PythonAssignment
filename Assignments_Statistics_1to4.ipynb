{
 "cells": [
  {
   "cell_type": "markdown",
   "metadata": {},
   "source": [
    "<H1><CENTER>STATISTICS(ASSIGNMENTS 1,2,3,4)</CENTER></H1>"
   ]
  },
  {
   "cell_type": "markdown",
   "metadata": {},
   "source": [
    "***"
   ]
  },
  {
   "cell_type": "markdown",
   "metadata": {},
   "source": [
    "# STATISTICS 1"
   ]
  },
  {
   "cell_type": "markdown",
   "metadata": {},
   "source": [
    "***"
   ]
  },
  {
   "cell_type": "markdown",
   "metadata": {},
   "source": [
    "### Problem Statement 1: \n",
    "You survey households in your area to find the average rent they are paying.\n",
    "Find the standard deviation from the following data: \n",
    "1550, 1700, 900, 850, 1000, 950.  \n",
    "\n",
    " \n",
    " "
   ]
  },
  {
   "cell_type": "code",
   "execution_count": 1,
   "metadata": {},
   "outputs": [],
   "source": [
    "import numpy as np\n",
    "import pandas as pd\n",
    "import math\n",
    "import statistics as stat"
   ]
  },
  {
   "cell_type": "code",
   "execution_count": 2,
   "metadata": {},
   "outputs": [
    {
     "name": "stdout",
     "output_type": "stream",
     "text": [
      "Mean=  1158.3333333333333\n"
     ]
    }
   ],
   "source": [
    "l=[1550, 1700, 900, 850, 1000, 950]\n",
    "mean=sum(l)/len(l)\n",
    "print(\"Mean= \",mean)"
   ]
  },
  {
   "cell_type": "code",
   "execution_count": 3,
   "metadata": {},
   "outputs": [
    {
     "name": "stdout",
     "output_type": "stream",
     "text": [
      "Standard deviation=  367.99003609699366\n"
     ]
    }
   ],
   "source": [
    "stdev=math.sqrt(sum((x - mean)**2 for x in l) / (len(l)-1))\n",
    "print(\"Standard deviation= \",stdev)"
   ]
  },
  {
   "cell_type": "code",
   "execution_count": 4,
   "metadata": {},
   "outputs": [
    {
     "name": "stdout",
     "output_type": "stream",
     "text": [
      "Standard deviation =  367.99003609699366\n"
     ]
    }
   ],
   "source": [
    "#uisng function\n",
    "print(\"Standard deviation = \",np.std(l, ddof=1))"
   ]
  },
  {
   "cell_type": "code",
   "execution_count": 5,
   "metadata": {},
   "outputs": [
    {
     "name": "stdout",
     "output_type": "stream",
     "text": [
      "Standard deviation=  367.9900360969936\n"
     ]
    }
   ],
   "source": [
    "#using stats\n",
    "print(\"Standard deviation= \",stat.stdev(l))"
   ]
  },
  {
   "cell_type": "markdown",
   "metadata": {},
   "source": [
    "### Problem 2\n",
    "Find the variance for the following set of data representing trees in California (heights in feet):\n",
    "3, 21, 98, 203, 17, 9 \n",
    " \n",
    " "
   ]
  },
  {
   "cell_type": "code",
   "execution_count": 6,
   "metadata": {},
   "outputs": [
    {
     "name": "stdout",
     "output_type": "stream",
     "text": [
      "Variance =  6219.9\n"
     ]
    }
   ],
   "source": [
    "data=[3, 21, 98, 203, 17, 9]\n",
    "mean=sum(data)/len(data)\n",
    "variance=sum((x - mean)**2 for x in data) / (len(data)-1)\n",
    "print(\"Variance = \",variance)"
   ]
  },
  {
   "cell_type": "code",
   "execution_count": 7,
   "metadata": {},
   "outputs": [
    {
     "name": "stdout",
     "output_type": "stream",
     "text": [
      "Variance=  6219.9\n"
     ]
    }
   ],
   "source": [
    "#using function\n",
    "print(\"Variance= \",np.var(data, ddof=1))"
   ]
  },
  {
   "cell_type": "code",
   "execution_count": 8,
   "metadata": {},
   "outputs": [
    {
     "name": "stdout",
     "output_type": "stream",
     "text": [
      "Variance=  6219.9\n"
     ]
    }
   ],
   "source": [
    "#using stats\n",
    "print(\"Variance= \",stat.variance(data))"
   ]
  },
  {
   "cell_type": "markdown",
   "metadata": {},
   "source": [
    "### Problem 3\n",
    "In a class on 100 students, 80 students passed in all subjects, 10 failed in one subject, 7 failed in two subjects and 3 failed in three subjects. Find the probability distribution of the variable for number of subjects a student from the given class has failed in. \n",
    " \n",
    " "
   ]
  },
  {
   "cell_type": "code",
   "execution_count": 9,
   "metadata": {},
   "outputs": [],
   "source": [
    "total_students = 100\n",
    "def prob(failed_students):\n",
    "    P = failed_students/total_students\n",
    "    return (\"Probability of failed_students = \"+str(P))\n"
   ]
  },
  {
   "cell_type": "code",
   "execution_count": 10,
   "metadata": {},
   "outputs": [
    {
     "data": {
      "text/plain": [
       "'Probability of failed_students = 0.8'"
      ]
     },
     "execution_count": 10,
     "metadata": {},
     "output_type": "execute_result"
    }
   ],
   "source": [
    "prob(80)"
   ]
  },
  {
   "cell_type": "code",
   "execution_count": 11,
   "metadata": {},
   "outputs": [
    {
     "data": {
      "text/plain": [
       "'Probability of failed_students = 0.1'"
      ]
     },
     "execution_count": 11,
     "metadata": {},
     "output_type": "execute_result"
    }
   ],
   "source": [
    "prob(10)"
   ]
  },
  {
   "cell_type": "code",
   "execution_count": 12,
   "metadata": {},
   "outputs": [
    {
     "data": {
      "text/plain": [
       "'Probability of failed_students = 0.07'"
      ]
     },
     "execution_count": 12,
     "metadata": {},
     "output_type": "execute_result"
    }
   ],
   "source": [
    "prob(7)"
   ]
  },
  {
   "cell_type": "code",
   "execution_count": 13,
   "metadata": {},
   "outputs": [
    {
     "data": {
      "text/plain": [
       "'Probability of failed_students = 0.03'"
      ]
     },
     "execution_count": 13,
     "metadata": {},
     "output_type": "execute_result"
    }
   ],
   "source": [
    "prob(3)"
   ]
  },
  {
   "cell_type": "markdown",
   "metadata": {},
   "source": [
    "***"
   ]
  },
  {
   "cell_type": "markdown",
   "metadata": {},
   "source": [
    "# STATISTICS 2"
   ]
  },
  {
   "cell_type": "markdown",
   "metadata": {},
   "source": [
    "***"
   ]
  },
  {
   "cell_type": "markdown",
   "metadata": {},
   "source": [
    "### Problem 1\n",
    "A test is conducted which is consisting of 20 MCQs (multiple choices questions) with every MCQ having its four options out of which only one is correct. Determine the probability that a person undertaking that test has answered exactly 5 questions wrong."
   ]
  },
  {
   "cell_type": "code",
   "execution_count": 14,
   "metadata": {},
   "outputs": [],
   "source": [
    "#Binomial Distribution B(n,p) is equal to the value k, where k = 0, 1,....,n , is given by \n",
    "#nCk * p^k * q^(n-k)\n",
    "#B(n,p)=(n! / (n-k!)*k!) * (p**k) * (q**(n-k))"
   ]
  },
  {
   "cell_type": "markdown",
   "metadata": {},
   "source": [
    "B(n,p)=(n! / (n-k!)*k!) * (p**k) * (q**(n-k))\n",
    "\n",
    "Here, n = 20, k = 20 - 5 = 15, n - k = 20-15 = 5\n",
    "\n",
    "Here the probability of success = probability of giving a right answer = p = 1/4\n",
    "\n",
    "Hence, the probability of failure = probability of giving a wrong answer = 1 - p\n",
    "= 1 - 1/4 = 3/4\n",
    "\n",
    "When we substitute these values in the formula for Binomial distribution we get,\n",
    "\n",
    "So, P (exactly 5 out of 20 answers incorrect) = C (20, 5) * (1/4) 15 * (3/4) 5\n",
    "\n"
   ]
  },
  {
   "cell_type": "code",
   "execution_count": 15,
   "metadata": {},
   "outputs": [
    {
     "name": "stdout",
     "output_type": "stream",
     "text": [
      "Probability=  0.000003426\n"
     ]
    }
   ],
   "source": [
    "#Probability,P =((20!)/(15! * 5!)) * (1/4) **15 * (3/4) **5\n",
    "P= format(((20*19*18*17*16)/(5*4*3*2*1))*((1/4)**15) *((3/4)**5),'0.9f')\n",
    "print(\"Probability= \",P)"
   ]
  },
  {
   "cell_type": "code",
   "execution_count": 16,
   "metadata": {},
   "outputs": [
    {
     "name": "stdout",
     "output_type": "stream",
     "text": [
      "Probability=  0.000003426\n"
     ]
    }
   ],
   "source": [
    "#Another method\n",
    "import scipy\n",
    "from scipy.special import comb\n",
    "\n",
    "n = 20\n",
    "probofsuccess=(1/4)\n",
    "proboffailure = 1 - probofsuccess\n",
    "#Exact 5 failures\n",
    "k = 20 - 5 \n",
    "combinations = scipy.special.comb(n, k, exact=False, repetition=False)\n",
    "probability = format(combinations * np.power((probofsuccess),k)*((proboffailure)**(n-k)),'0.9f')\n",
    "print(\"Probability= \",probability)"
   ]
  },
  {
   "cell_type": "markdown",
   "metadata": {},
   "source": [
    "### Problem 2 \n"
   ]
  },
  {
   "cell_type": "markdown",
   "metadata": {},
   "source": [
    "A die marked A to E is rolled 50 times. Find the probability of getting a “D” exactly 5 times. "
   ]
  },
  {
   "cell_type": "markdown",
   "metadata": {},
   "source": [
    "Here, n = 50, k = 5, n - k = 45.\n",
    "\n",
    "The probability of success = probability of getting a “D”= p = 1/5\n",
    "\n",
    "Hence, the probability of failure = probability of not getting a “D” =q= 1 - p = 4/5."
   ]
  },
  {
   "cell_type": "code",
   "execution_count": 17,
   "metadata": {},
   "outputs": [
    {
     "name": "stdout",
     "output_type": "stream",
     "text": [
      "Probability=  0.029531204\n"
     ]
    }
   ],
   "source": [
    "import scipy\n",
    "from scipy.special import comb\n",
    "n = 50\n",
    "k = 5\n",
    "probofsuccess=1/5\n",
    "proboffailure = 1 - probofsuccess\n",
    "combinations = scipy.special.comb(n, k, exact=False, repetition=False)\n",
    "probability = format(combinations * np.power((probofsuccess),k)*((proboffailure)**(n-k)),'0.9f')\n",
    "print(\"Probability= \",probability)"
   ]
  },
  {
   "cell_type": "markdown",
   "metadata": {},
   "source": [
    "### Problem 3\n",
    "Two balls are drawn at random in succession without replacement from an urn containing 4 red balls and 6 black balls.Find the probabilities of all the possible outcomes. "
   ]
  },
  {
   "cell_type": "code",
   "execution_count": 18,
   "metadata": {},
   "outputs": [
    {
     "name": "stdout",
     "output_type": "stream",
     "text": [
      "Probability_of_two_reds(RR)=0.133\n",
      "\n",
      "Probability_of_one_red_one_black(RB)=0.267\n",
      "\n",
      "Probability_of_one_black_one_red(BR)=0.267\n",
      "\n",
      "Probability_of_two_blacks(BB)=0.333\n",
      "\n",
      "Sum_of_all_probabilities= 1.0\n"
     ]
    }
   ],
   "source": [
    "Total_balls=6+4\n",
    "\n",
    "#Probabilities of all possible outcomes\n",
    "\n",
    "RR=(4/10)*(3/9)\n",
    "print(\"Probability_of_two_reds(RR)={:.3f}\".format(RR))\n",
    "\n",
    "RB=(4/10)*(6/9)\n",
    "print(\"\\nProbability_of_one_red_one_black(RB)={:.3f}\".format(RB))\n",
    "\n",
    "BR=(6/10)*(4/9)\n",
    "print(\"\\nProbability_of_one_black_one_red(BR)={:.3f}\".format(BR))\n",
    "\n",
    "BB=(6/10)*(5/9)\n",
    "print(\"\\nProbability_of_two_blacks(BB)={:.3f}\".format(BB))\n",
    "\n",
    "Sum_of_all_probabilities=RR + RB + BR +BB\n",
    "print(\"\\nSum_of_all_probabilities=\",Sum_of_all_probabilities)"
   ]
  },
  {
   "cell_type": "markdown",
   "metadata": {},
   "source": [
    "***"
   ]
  },
  {
   "cell_type": "markdown",
   "metadata": {},
   "source": [
    "# STATISTICS 3"
   ]
  },
  {
   "cell_type": "markdown",
   "metadata": {},
   "source": [
    "***"
   ]
  },
  {
   "cell_type": "markdown",
   "metadata": {},
   "source": [
    "### Problem 1:\n",
    "Blood glucose levels for obese patients have a mean of 100 with a standard deviation of  15. A researcher thinks that a diet high in raw cornstarch will have a positive effect on blood glucose levels. A sample of 36 patients who have tried the raw cornstarch diet have a mean glucose level of 108. Test the hypothesis that the raw cornstarch had an effect or not. \n",
    " \n",
    " "
   ]
  },
  {
   "cell_type": "markdown",
   "metadata": {},
   "source": [
    "#### z=(X-μ)/σ"
   ]
  },
  {
   "cell_type": "code",
   "execution_count": 19,
   "metadata": {},
   "outputs": [
    {
     "name": "stdout",
     "output_type": "stream",
     "text": [
      "𝜇= 100\tX̄= 108\t𝜎 =  2.5\n",
      "z=  3.2\n",
      "p-value associated with 3.20 is  0.9993128620620841\n"
     ]
    }
   ],
   "source": [
    "import numpy as np\n",
    "from scipy import stats\n",
    "def Zscore(x, mean, stdev):\n",
    "    return (x - mean)/stdev\n",
    "\n",
    "\n",
    "x = 108\n",
    "mean = 100\n",
    "stdev = 15/np.sqrt(36)\n",
    "\n",
    "z = Zscore(x, mean, stdev)\n",
    "print(\"𝜇= \"+str(mean)+\"\\tX̄= \"+str(x)+ \"\\t𝜎 =  \"+str(stdev))\n",
    "print(\"z= \",z)\n",
    "p= stats.norm.cdf(z)\n",
    "print(\"p-value associated with 3.20 is \",p)"
   ]
  },
  {
   "cell_type": "markdown",
   "metadata": {},
   "source": [
    "#### Performing Hypothesis Testing\n",
    "Step1:Develop a Hypothesis \n",
    "            The population mean is 100.\n",
    "    \n",
    "H0: μ = 100\n",
    "H1: μ ≠ 100\n",
    "    \n",
    "Step2:  State significance level:  \n",
    "        Significance level (α). It is not given in the problem and hence taking it as 5% (0.05).    \n",
    "    α=0.05\n",
    "    \n",
    "Step3: Identify Test Statistic: \n",
    "    𝜇=100\n",
    "    𝜎 = 15\n",
    "    X̄=108\n",
    "    n=36\n",
    "    \n",
    "    \n",
    " z= (108-100) / (15/√36)=3.20\n",
    " \n",
    "Step4: Determine P-value:\n",
    "         The probability by looking at z- table and p-value associated with 3.20 is 0.9993. \n",
    "            Probability of having p-value less than 108 is 0.9993 and more than or equals to 108 is (1-0.9993)=0.0007.\n",
    "\n",
    "\n",
    "Step5: Compare P-value to Significance level:\n",
    "        0.0007<0.05.\n",
    "        Hence  Reject H0,i.e. there is raw cornstarch effect."
   ]
  },
  {
   "cell_type": "markdown",
   "metadata": {},
   "source": [
    "### Problem Statement 2:\n",
    "\n",
    "In one state, 52% of the voters are Republicans, and 48% are Democrats. In a second state, 47% of the voters are Republicans, and 53% are Democrats. Suppose a simple random sample of 100 voters are surveyed from each state. What is the probability that the survey will show a greater percentage of Republican voters in the second state than in the first state?"
   ]
  },
  {
   "cell_type": "code",
   "execution_count": 20,
   "metadata": {},
   "outputs": [
    {
     "name": "stdout",
     "output_type": "stream",
     "text": [
      "zscore = 0.707, pvalue = 0.240\n",
      "The probability that the survey will show a greater percentage of Republican voters in the second state than in the first state is 0.24.\n"
     ]
    }
   ],
   "source": [
    "import numpy as np\n",
    "from statsmodels.stats.proportion import proportions_ztest\n",
    "counts = np.array([52,47])\n",
    "nobs = np.array([100, 100])\n",
    "\n",
    "zscore, pvalue = proportions_ztest(counts, nobs, alternative = 'larger')\n",
    "print('zscore = {:.3f}, pvalue = {:.3f}'.format(zscore, pvalue))\n",
    "print(\"The probability that the survey will show a greater percentage of Republican voters in the second state than in the first state is 0.24.\")"
   ]
  },
  {
   "cell_type": "markdown",
   "metadata": {},
   "source": [
    "####  Alternate method\n",
    "n1P1 = 100 * 0.52 = 52,\n",
    "\n",
    "n1(1 - P1) = 100 * 0.48 = 48,\n",
    "\n",
    "n2P2 = 100 * 0.47 = 47\n",
    "\n",
    "n2(1 - P2) = 100 * 0.53 = 53 are each greater than 10, the sample size is large enough.\n",
    "\n",
    " \n",
    "Finding the mean of the difference in sample proportions:\n",
    "\n",
    "E(p1 - p2) = P1 - P2 = 0.52 - 0.47 = 0.05.\n",
    " \n",
    "\n",
    "Find the standard deviation of the difference.\n",
    "\n",
    "σd =  sqrt{ [ P1(1 - P1) / n1 ] + [ P2(1 - P2) / n2 ] } \n",
    "\n",
    "σd = sqrt{ [ (0.52)(0.48) / 100 ] + [ (0.47)(0.53) / 100 ] } \n",
    "\n",
    "σd = sqrt (0.002496 + 0.002491) = sqrt(0.004987) = 0.0706\n",
    "\n",
    "Finding the probability--\n",
    "\n",
    "This problem requires us to find the probability that p1 is less than p2. \n",
    "This is equivalent to finding the probability that p1 - p2 is less than zero. \n",
    "To find this probability, we need to transform the random variable (p1 - p2) into a z-score. \n",
    "\n",
    "z = (x - μ  ) / σd = = (0 - 0.05)/0.0706 = -0.7082\n",
    "z-score being -0.7082 or less is 0.24.\n",
    "\n",
    "\n",
    "Therefore, the probability that the survey will show a greater percentage of Republican voters in the second state than in the first state is 0.24."
   ]
  },
  {
   "cell_type": "markdown",
   "metadata": {},
   "source": [
    "### Problem Statement 3:\n",
    "You take the SAT and score 1100. The mean score for the SAT is 1026 and the standard deviation is 209. How well did you score on the test compared to the average test taker?"
   ]
  },
  {
   "cell_type": "markdown",
   "metadata": {},
   "source": [
    "### z=(X-μ)/σ\n",
    "z=(1100 – 1026) / 209 =0.354. \n",
    "\n",
    "A z-score of 0.354 is 0.1368 + 0.5= .6368 or 63.68%.\n",
    "\n",
    "The z-table shown has scores for the RIGHT of the mean. Therefore, we have to add 0.5 for all of the area LEFT of the mean. \n",
    "\n"
   ]
  },
  {
   "cell_type": "code",
   "execution_count": 21,
   "metadata": {},
   "outputs": [
    {
     "name": "stdout",
     "output_type": "stream",
     "text": [
      "𝜇= 1026\tX̄= 1100\t  𝜎 =  209\n",
      "z=0.354\n",
      "p-value associated with z-value 0.354 is 63.836 \n",
      "My Score is in the range 817 - 1235  with a  percentage of test-takers scored below me is 63.84%\n"
     ]
    }
   ],
   "source": [
    "#Alternate method Using stats\n",
    "import numpy as np\n",
    "from scipy import stats\n",
    "def Zscore(x, mean, stdev):\n",
    "    return (x - mean)/stdev\n",
    "\n",
    "\n",
    "x = 1100\n",
    "mean = 1026\n",
    "stdev = 209\n",
    "\n",
    "z = Zscore(x, mean, stdev)\n",
    "#The z-table shown has scores for the RIGHT of the mean. Therefore, we have to add 0.5 for all of the area LEFT of the mean.\n",
    "\n",
    "print(\"𝜇= \"+str(mean)+\"\\tX̄= \"+str(x)+ \"\\t  𝜎 =  \"+str(stdev))\n",
    "print(\"z={:.3f}\".format(z))\n",
    "p= stats.norm.cdf(z)*100\n",
    "print(\"p-value associated with z-value {:.3f}\".format(z)+\" is {:.3f} \".format(p))\n",
    "confidence_interval =[x-(z*(mean/stdev)),x+(z*(mean/stdev))]\n",
    "print(\"My Score is in the range {} - {}  with a  percentage of test-takers scored below me is {:.2f}%\".format(mean - stdev,mean + stdev,p))"
   ]
  },
  {
   "cell_type": "markdown",
   "metadata": {},
   "source": [
    "***"
   ]
  },
  {
   "cell_type": "markdown",
   "metadata": {},
   "source": [
    "# STATISTICS 4"
   ]
  },
  {
   "cell_type": "markdown",
   "metadata": {},
   "source": [
    "***"
   ]
  },
  {
   "cell_type": "markdown",
   "metadata": {},
   "source": [
    "### Problem Statement 1:\n",
    "Is gender independent of education level? A random sample of 395 people were\n",
    "surveyed and each person was asked to report the highest education level they\n",
    "obtained. The data that resulted from the survey is summarized in the following table:\n",
    "\n",
    "            High School Bachelors Masters Ph.d. Total\n",
    "     Female         60     54        46    41    201\n",
    "      Male          40     44        53    57    194\n",
    "      Total         100    98        99    98    395\n",
    "\n",
    "Question: Are gender and education level dependent at 5% level of significance? In\n",
    "other words, given the data collected above, is there a relationship between the\n",
    "gender of an individual and the level of education that they have obtained?"
   ]
  },
  {
   "cell_type": "markdown",
   "metadata": {},
   "source": [
    "#### Chi-square Test Statistic,χ2= Σ  [(O-E)**2] / E ;\n",
    "\n",
    "where O is the Observed Frequency and E is the Expected Frequency under the null hypothesis\n",
    "\n",
    "#### E=(Row Total * Column Total)/Sample Size"
   ]
  },
  {
   "cell_type": "code",
   "execution_count": 22,
   "metadata": {},
   "outputs": [
    {
     "data": {
      "text/html": [
       "<div>\n",
       "<style scoped>\n",
       "    .dataframe tbody tr th:only-of-type {\n",
       "        vertical-align: middle;\n",
       "    }\n",
       "\n",
       "    .dataframe tbody tr th {\n",
       "        vertical-align: top;\n",
       "    }\n",
       "\n",
       "    .dataframe thead th {\n",
       "        text-align: right;\n",
       "    }\n",
       "</style>\n",
       "<table border=\"1\" class=\"dataframe\">\n",
       "  <thead>\n",
       "    <tr style=\"text-align: right;\">\n",
       "      <th></th>\n",
       "      <th>HighSchool</th>\n",
       "      <th>Bachelors</th>\n",
       "      <th>Masters</th>\n",
       "      <th>PhD</th>\n",
       "      <th>Row_Total</th>\n",
       "    </tr>\n",
       "  </thead>\n",
       "  <tbody>\n",
       "    <tr>\n",
       "      <th>Female</th>\n",
       "      <td>60</td>\n",
       "      <td>54</td>\n",
       "      <td>46</td>\n",
       "      <td>41</td>\n",
       "      <td>201</td>\n",
       "    </tr>\n",
       "    <tr>\n",
       "      <th>Male</th>\n",
       "      <td>40</td>\n",
       "      <td>44</td>\n",
       "      <td>53</td>\n",
       "      <td>57</td>\n",
       "      <td>194</td>\n",
       "    </tr>\n",
       "    <tr>\n",
       "      <th>Col_Total</th>\n",
       "      <td>100</td>\n",
       "      <td>98</td>\n",
       "      <td>99</td>\n",
       "      <td>98</td>\n",
       "      <td>395</td>\n",
       "    </tr>\n",
       "  </tbody>\n",
       "</table>\n",
       "</div>"
      ],
      "text/plain": [
       "           HighSchool  Bachelors  Masters  PhD  Row_Total\n",
       "Female             60         54       46   41        201\n",
       "Male               40         44       53   57        194\n",
       "Col_Total         100         98       99   98        395"
      ]
     },
     "execution_count": 22,
     "metadata": {},
     "output_type": "execute_result"
    }
   ],
   "source": [
    "import numpy as np\n",
    "import pandas as pd\n",
    "df = pd.DataFrame(np.array([[60,54,46,41,201], [40,44,53,57,194],[100,98,99,98,395]])\n",
    "                          ,columns=['HighSchool','Bachelors','Masters','PhD','Row_Total'])\n",
    "df.rename(index={0:'Female',1:'Male',2:'Col_Total'}, inplace=True)\n",
    "df"
   ]
  },
  {
   "cell_type": "code",
   "execution_count": 23,
   "metadata": {},
   "outputs": [
    {
     "data": {
      "text/html": [
       "<div>\n",
       "<style scoped>\n",
       "    .dataframe tbody tr th:only-of-type {\n",
       "        vertical-align: middle;\n",
       "    }\n",
       "\n",
       "    .dataframe tbody tr th {\n",
       "        vertical-align: top;\n",
       "    }\n",
       "\n",
       "    .dataframe thead th {\n",
       "        text-align: right;\n",
       "    }\n",
       "</style>\n",
       "<table border=\"1\" class=\"dataframe\">\n",
       "  <thead>\n",
       "    <tr style=\"text-align: right;\">\n",
       "      <th></th>\n",
       "      <th>HighSchool</th>\n",
       "      <th>Bachelors</th>\n",
       "      <th>Masters</th>\n",
       "      <th>PhD</th>\n",
       "    </tr>\n",
       "  </thead>\n",
       "  <tbody>\n",
       "    <tr>\n",
       "      <th>Female</th>\n",
       "      <td>50.886076</td>\n",
       "      <td>49.868354</td>\n",
       "      <td>50.377215</td>\n",
       "      <td>49.868354</td>\n",
       "    </tr>\n",
       "    <tr>\n",
       "      <th>Male</th>\n",
       "      <td>49.113924</td>\n",
       "      <td>48.131646</td>\n",
       "      <td>48.622785</td>\n",
       "      <td>48.131646</td>\n",
       "    </tr>\n",
       "  </tbody>\n",
       "</table>\n",
       "</div>"
      ],
      "text/plain": [
       "        HighSchool  Bachelors    Masters        PhD\n",
       "Female   50.886076  49.868354  50.377215  49.868354\n",
       "Male     49.113924  48.131646  48.622785  48.131646"
      ]
     },
     "execution_count": 23,
     "metadata": {},
     "output_type": "execute_result"
    }
   ],
   "source": [
    "expected =  np.outer(df[\"Row_Total\"][0:2],\n",
    "                     df.loc[\"Col_Total\"][0:4]) / 395\n",
    "\n",
    "expected = pd.DataFrame(expected)\n",
    "\n",
    "expected.columns = ['HighSchool','Bachelors','Masters','PhD']\n",
    "expected.index = [\"Female\",\"Male\"]\n",
    "\n",
    "expected"
   ]
  },
  {
   "cell_type": "code",
   "execution_count": 24,
   "metadata": {},
   "outputs": [
    {
     "name": "stdout",
     "output_type": "stream",
     "text": [
      "Chi-Square Statistic= 8.006\n",
      "Critical value= 7.815\n",
      "P value= 0.046\n",
      "\n",
      "  The critical value of χ2 with 3 degree of freedom is 7.815. Since 8.006 > 7.815, therefore we reject the null hypothesis and conclude that the education level depends on gender at a 5% level of significance.\n"
     ]
    }
   ],
   "source": [
    "observed = df.iloc[0:2,0:4]\n",
    "chi_squared_stat = (((observed-expected)**2)/expected).sum().sum()\n",
    " #   We call .sum() twice: once to get the column sums and a second time to add the column sums together,\n",
    "#              returning the sum of the entire 2D table.\n",
    "print(\"Chi-Square Statistic= {:.3f}\".format(chi_squared_stat))\n",
    "import scipy.stats as stats\n",
    "crit = stats.chi2.ppf(q = 0.95, # Find the critical value for 95% confidence*\n",
    "                      df = 3)   \n",
    "\n",
    "print(\"Critical value= {:.3f}\".format(crit))\n",
    "\n",
    "p_value = 1 - stats.chi2.cdf(x=chi_squared_stat,  # Find the p-value\n",
    "                             df=3)\n",
    "print(\"P value= {:.3f}\".format(p_value))\n",
    "print(\"\\n  The critical value of χ2 with 3 degree of freedom is 7.815. Since 8.006 > 7.815, therefore we reject the null hypothesis and conclude that the education level depends on gender at a 5% level of significance.\")"
   ]
  },
  {
   "cell_type": "markdown",
   "metadata": {},
   "source": [
    "#### An alternate method to find the Critical value,p-vale and degrees of freedom using stats is as follows:\n"
   ]
  },
  {
   "cell_type": "code",
   "execution_count": 25,
   "metadata": {},
   "outputs": [
    {
     "data": {
      "text/plain": [
       "(8.006066246262538,\n",
       " 0.045886500891747214,\n",
       " 3,\n",
       " array([[50.88607595, 49.86835443, 50.37721519, 49.86835443],\n",
       "        [49.11392405, 48.13164557, 48.62278481, 48.13164557]]))"
      ]
     },
     "execution_count": 25,
     "metadata": {},
     "output_type": "execute_result"
    }
   ],
   "source": [
    "stats.chi2_contingency(observed= observed)"
   ]
  },
  {
   "cell_type": "markdown",
   "metadata": {},
   "source": [
    "The above output shows the chi-square statistic, the p-value and the degrees of freedom followed by the expected counts.The critical value of χ2 with 3 degree of freedom is 7.815. Since 8.006 > 7.815, therefore we reject the null hypothesis and conclude that the education level depends on gender at a 5% level of significance."
   ]
  },
  {
   "cell_type": "markdown",
   "metadata": {},
   "source": [
    "### Problem Statement 2: \n",
    " \n",
    "Using the following data, perform a oneway analysis of variance using α=.05. Write up the results in APA format. \n",
    " \n",
    " \n",
    "[Group1: 51, 45, 33, 45, 67]  \n",
    "[Group2: 23, 43, 23, 43, 45]  \n",
    "[Group3: 56, 76, 74, 87, 56] "
   ]
  },
  {
   "cell_type": "code",
   "execution_count": 26,
   "metadata": {},
   "outputs": [
    {
     "data": {
      "text/html": [
       "<div>\n",
       "<style scoped>\n",
       "    .dataframe tbody tr th:only-of-type {\n",
       "        vertical-align: middle;\n",
       "    }\n",
       "\n",
       "    .dataframe tbody tr th {\n",
       "        vertical-align: top;\n",
       "    }\n",
       "\n",
       "    .dataframe thead th {\n",
       "        text-align: right;\n",
       "    }\n",
       "</style>\n",
       "<table border=\"1\" class=\"dataframe\">\n",
       "  <thead>\n",
       "    <tr style=\"text-align: right;\">\n",
       "      <th></th>\n",
       "      <th>Group1</th>\n",
       "      <th>Group2</th>\n",
       "      <th>Group3</th>\n",
       "    </tr>\n",
       "  </thead>\n",
       "  <tbody>\n",
       "    <tr>\n",
       "      <th>0</th>\n",
       "      <td>51</td>\n",
       "      <td>23</td>\n",
       "      <td>56</td>\n",
       "    </tr>\n",
       "    <tr>\n",
       "      <th>1</th>\n",
       "      <td>45</td>\n",
       "      <td>43</td>\n",
       "      <td>76</td>\n",
       "    </tr>\n",
       "    <tr>\n",
       "      <th>2</th>\n",
       "      <td>33</td>\n",
       "      <td>23</td>\n",
       "      <td>74</td>\n",
       "    </tr>\n",
       "    <tr>\n",
       "      <th>3</th>\n",
       "      <td>45</td>\n",
       "      <td>43</td>\n",
       "      <td>87</td>\n",
       "    </tr>\n",
       "    <tr>\n",
       "      <th>4</th>\n",
       "      <td>67</td>\n",
       "      <td>45</td>\n",
       "      <td>56</td>\n",
       "    </tr>\n",
       "  </tbody>\n",
       "</table>\n",
       "</div>"
      ],
      "text/plain": [
       "   Group1  Group2  Group3\n",
       "0      51      23      56\n",
       "1      45      43      76\n",
       "2      33      23      74\n",
       "3      45      43      87\n",
       "4      67      45      56"
      ]
     },
     "execution_count": 26,
     "metadata": {},
     "output_type": "execute_result"
    }
   ],
   "source": [
    "data = {'Group1':[51,45,33,45,67], \n",
    "        'Group2':[23,43,23,43,45], \n",
    "        'Group3':[56,76,74,87,56]} \n",
    "data = pd.DataFrame(data)\n",
    "data"
   ]
  },
  {
   "cell_type": "markdown",
   "metadata": {},
   "source": [
    "#### Step 1: Calculate all the means"
   ]
  },
  {
   "cell_type": "code",
   "execution_count": 27,
   "metadata": {},
   "outputs": [
    {
     "name": "stdout",
     "output_type": "stream",
     "text": [
      "Means of the groups:\n",
      " Group1    48.2\n",
      "Group2    35.4\n",
      "Group3    69.8\n",
      "dtype: float64\n",
      "Grand mean=  51.13\n"
     ]
    }
   ],
   "source": [
    "means=data.mean()\n",
    "print(\"Means of the groups:\\n\",means)\n",
    "grand_mean=means.mean()\n",
    "print(\"Grand mean= \",round(grand_mean,2))"
   ]
  },
  {
   "cell_type": "markdown",
   "metadata": {},
   "source": [
    "#### Step 2: Specify the rejection area\n",
    "α = 0.05\n",
    "Rejection criteria: K(0.05) < F\n",
    "This means that if the critical value of F from tables is less than the calculated value of F, we reject the null hypothesis"
   ]
  },
  {
   "cell_type": "markdown",
   "metadata": {},
   "source": [
    "#### Step 3: Calculate the Sum of Squares\n",
    "The formula for sum of squares is \n",
    "SS(total)=SS(between)+SS(within)"
   ]
  },
  {
   "cell_type": "code",
   "execution_count": 28,
   "metadata": {},
   "outputs": [
    {
     "data": {
      "text/html": [
       "<div>\n",
       "<style scoped>\n",
       "    .dataframe tbody tr th:only-of-type {\n",
       "        vertical-align: middle;\n",
       "    }\n",
       "\n",
       "    .dataframe tbody tr th {\n",
       "        vertical-align: top;\n",
       "    }\n",
       "\n",
       "    .dataframe thead th {\n",
       "        text-align: right;\n",
       "    }\n",
       "</style>\n",
       "<table border=\"1\" class=\"dataframe\">\n",
       "  <thead>\n",
       "    <tr style=\"text-align: right;\">\n",
       "      <th></th>\n",
       "      <th>Group1</th>\n",
       "      <th>Group2</th>\n",
       "      <th>Group3</th>\n",
       "      <th>g1_sst</th>\n",
       "      <th>g2_sst</th>\n",
       "      <th>g3_sst</th>\n",
       "    </tr>\n",
       "  </thead>\n",
       "  <tbody>\n",
       "    <tr>\n",
       "      <th>0</th>\n",
       "      <td>51</td>\n",
       "      <td>23</td>\n",
       "      <td>56</td>\n",
       "      <td>0.017778</td>\n",
       "      <td>791.484444</td>\n",
       "      <td>23.684444</td>\n",
       "    </tr>\n",
       "    <tr>\n",
       "      <th>1</th>\n",
       "      <td>45</td>\n",
       "      <td>43</td>\n",
       "      <td>76</td>\n",
       "      <td>37.617778</td>\n",
       "      <td>66.151111</td>\n",
       "      <td>618.351111</td>\n",
       "    </tr>\n",
       "    <tr>\n",
       "      <th>2</th>\n",
       "      <td>33</td>\n",
       "      <td>23</td>\n",
       "      <td>74</td>\n",
       "      <td>328.817778</td>\n",
       "      <td>791.484444</td>\n",
       "      <td>522.884444</td>\n",
       "    </tr>\n",
       "    <tr>\n",
       "      <th>3</th>\n",
       "      <td>45</td>\n",
       "      <td>43</td>\n",
       "      <td>87</td>\n",
       "      <td>37.617778</td>\n",
       "      <td>66.151111</td>\n",
       "      <td>1286.417778</td>\n",
       "    </tr>\n",
       "    <tr>\n",
       "      <th>4</th>\n",
       "      <td>67</td>\n",
       "      <td>45</td>\n",
       "      <td>56</td>\n",
       "      <td>251.751111</td>\n",
       "      <td>37.617778</td>\n",
       "      <td>23.684444</td>\n",
       "    </tr>\n",
       "  </tbody>\n",
       "</table>\n",
       "</div>"
      ],
      "text/plain": [
       "   Group1  Group2  Group3      g1_sst      g2_sst       g3_sst\n",
       "0      51      23      56    0.017778  791.484444    23.684444\n",
       "1      45      43      76   37.617778   66.151111   618.351111\n",
       "2      33      23      74  328.817778  791.484444   522.884444\n",
       "3      45      43      87   37.617778   66.151111  1286.417778\n",
       "4      67      45      56  251.751111   37.617778    23.684444"
      ]
     },
     "execution_count": 28,
     "metadata": {},
     "output_type": "execute_result"
    }
   ],
   "source": [
    "data['g1_sst']=(data.Group1-grand_mean)**2\n",
    "data['g2_sst']=(data.Group2-grand_mean)**2\n",
    "data['g3_sst']=(data.Group3-grand_mean)**2\n",
    "data"
   ]
  },
  {
   "cell_type": "code",
   "execution_count": 29,
   "metadata": {},
   "outputs": [
    {
     "name": "stdout",
     "output_type": "stream",
     "text": [
      "Total Sum of Squares, SS(Total)=  4883.733333333334\n"
     ]
    }
   ],
   "source": [
    "SST=data.g1_sst.sum()+data.g2_sst.sum()+data.g3_sst.sum()\n",
    "print(\"Total Sum of Squares, SS(Total)= \",SST)"
   ]
  },
  {
   "cell_type": "code",
   "execution_count": 30,
   "metadata": {},
   "outputs": [
    {
     "data": {
      "text/html": [
       "<div>\n",
       "<style scoped>\n",
       "    .dataframe tbody tr th:only-of-type {\n",
       "        vertical-align: middle;\n",
       "    }\n",
       "\n",
       "    .dataframe tbody tr th {\n",
       "        vertical-align: top;\n",
       "    }\n",
       "\n",
       "    .dataframe thead th {\n",
       "        text-align: right;\n",
       "    }\n",
       "</style>\n",
       "<table border=\"1\" class=\"dataframe\">\n",
       "  <thead>\n",
       "    <tr style=\"text-align: right;\">\n",
       "      <th></th>\n",
       "      <th>Group1</th>\n",
       "      <th>Group2</th>\n",
       "      <th>Group3</th>\n",
       "      <th>g1_sst</th>\n",
       "      <th>g2_sst</th>\n",
       "      <th>g3_sst</th>\n",
       "      <th>g1_ssw</th>\n",
       "      <th>g2_ssw</th>\n",
       "      <th>g3_ssw</th>\n",
       "    </tr>\n",
       "  </thead>\n",
       "  <tbody>\n",
       "    <tr>\n",
       "      <th>0</th>\n",
       "      <td>51</td>\n",
       "      <td>23</td>\n",
       "      <td>56</td>\n",
       "      <td>0.017778</td>\n",
       "      <td>791.484444</td>\n",
       "      <td>23.684444</td>\n",
       "      <td>7.84</td>\n",
       "      <td>153.76</td>\n",
       "      <td>190.44</td>\n",
       "    </tr>\n",
       "    <tr>\n",
       "      <th>1</th>\n",
       "      <td>45</td>\n",
       "      <td>43</td>\n",
       "      <td>76</td>\n",
       "      <td>37.617778</td>\n",
       "      <td>66.151111</td>\n",
       "      <td>618.351111</td>\n",
       "      <td>10.24</td>\n",
       "      <td>57.76</td>\n",
       "      <td>38.44</td>\n",
       "    </tr>\n",
       "    <tr>\n",
       "      <th>2</th>\n",
       "      <td>33</td>\n",
       "      <td>23</td>\n",
       "      <td>74</td>\n",
       "      <td>328.817778</td>\n",
       "      <td>791.484444</td>\n",
       "      <td>522.884444</td>\n",
       "      <td>231.04</td>\n",
       "      <td>153.76</td>\n",
       "      <td>17.64</td>\n",
       "    </tr>\n",
       "    <tr>\n",
       "      <th>3</th>\n",
       "      <td>45</td>\n",
       "      <td>43</td>\n",
       "      <td>87</td>\n",
       "      <td>37.617778</td>\n",
       "      <td>66.151111</td>\n",
       "      <td>1286.417778</td>\n",
       "      <td>10.24</td>\n",
       "      <td>57.76</td>\n",
       "      <td>295.84</td>\n",
       "    </tr>\n",
       "    <tr>\n",
       "      <th>4</th>\n",
       "      <td>67</td>\n",
       "      <td>45</td>\n",
       "      <td>56</td>\n",
       "      <td>251.751111</td>\n",
       "      <td>37.617778</td>\n",
       "      <td>23.684444</td>\n",
       "      <td>353.44</td>\n",
       "      <td>92.16</td>\n",
       "      <td>190.44</td>\n",
       "    </tr>\n",
       "  </tbody>\n",
       "</table>\n",
       "</div>"
      ],
      "text/plain": [
       "   Group1  Group2  Group3      g1_sst      g2_sst       g3_sst  g1_ssw  \\\n",
       "0      51      23      56    0.017778  791.484444    23.684444    7.84   \n",
       "1      45      43      76   37.617778   66.151111   618.351111   10.24   \n",
       "2      33      23      74  328.817778  791.484444   522.884444  231.04   \n",
       "3      45      43      87   37.617778   66.151111  1286.417778   10.24   \n",
       "4      67      45      56  251.751111   37.617778    23.684444  353.44   \n",
       "\n",
       "   g2_ssw  g3_ssw  \n",
       "0  153.76  190.44  \n",
       "1   57.76   38.44  \n",
       "2  153.76   17.64  \n",
       "3   57.76  295.84  \n",
       "4   92.16  190.44  "
      ]
     },
     "execution_count": 30,
     "metadata": {},
     "output_type": "execute_result"
    }
   ],
   "source": [
    "data['g1_ssw']=(data.Group1-data.Group1.mean())**2\n",
    "data['g2_ssw']=(data.Group2-data.Group2.mean())**2\n",
    "data['g3_ssw']=(data.Group3-data.Group3.mean())**2\n",
    "data"
   ]
  },
  {
   "cell_type": "code",
   "execution_count": 31,
   "metadata": {},
   "outputs": [
    {
     "name": "stdout",
     "output_type": "stream",
     "text": [
      "Sum of Squares within groups, SSW=  1860.8\n"
     ]
    }
   ],
   "source": [
    "ssw=data.g1_ssw.sum()+data.g2_ssw.sum()+data.g3_ssw.sum()\n",
    "print(\"Sum of Squares within groups, SSW= \",ssw)"
   ]
  },
  {
   "cell_type": "code",
   "execution_count": 32,
   "metadata": {},
   "outputs": [
    {
     "data": {
      "text/html": [
       "<div>\n",
       "<style scoped>\n",
       "    .dataframe tbody tr th:only-of-type {\n",
       "        vertical-align: middle;\n",
       "    }\n",
       "\n",
       "    .dataframe tbody tr th {\n",
       "        vertical-align: top;\n",
       "    }\n",
       "\n",
       "    .dataframe thead th {\n",
       "        text-align: right;\n",
       "    }\n",
       "</style>\n",
       "<table border=\"1\" class=\"dataframe\">\n",
       "  <thead>\n",
       "    <tr style=\"text-align: right;\">\n",
       "      <th></th>\n",
       "      <th>Group1</th>\n",
       "      <th>Group2</th>\n",
       "      <th>Group3</th>\n",
       "      <th>g1_sst</th>\n",
       "      <th>g2_sst</th>\n",
       "      <th>g3_sst</th>\n",
       "      <th>g1_ssw</th>\n",
       "      <th>g2_ssw</th>\n",
       "      <th>g3_ssw</th>\n",
       "      <th>g1_ssb</th>\n",
       "      <th>g2_ssb</th>\n",
       "      <th>g3_ssb</th>\n",
       "    </tr>\n",
       "  </thead>\n",
       "  <tbody>\n",
       "    <tr>\n",
       "      <th>0</th>\n",
       "      <td>51</td>\n",
       "      <td>23</td>\n",
       "      <td>56</td>\n",
       "      <td>0.017778</td>\n",
       "      <td>791.484444</td>\n",
       "      <td>23.684444</td>\n",
       "      <td>7.84</td>\n",
       "      <td>153.76</td>\n",
       "      <td>190.44</td>\n",
       "      <td>8.604444</td>\n",
       "      <td>247.537778</td>\n",
       "      <td>348.444444</td>\n",
       "    </tr>\n",
       "    <tr>\n",
       "      <th>1</th>\n",
       "      <td>45</td>\n",
       "      <td>43</td>\n",
       "      <td>76</td>\n",
       "      <td>37.617778</td>\n",
       "      <td>66.151111</td>\n",
       "      <td>618.351111</td>\n",
       "      <td>10.24</td>\n",
       "      <td>57.76</td>\n",
       "      <td>38.44</td>\n",
       "      <td>8.604444</td>\n",
       "      <td>247.537778</td>\n",
       "      <td>348.444444</td>\n",
       "    </tr>\n",
       "    <tr>\n",
       "      <th>2</th>\n",
       "      <td>33</td>\n",
       "      <td>23</td>\n",
       "      <td>74</td>\n",
       "      <td>328.817778</td>\n",
       "      <td>791.484444</td>\n",
       "      <td>522.884444</td>\n",
       "      <td>231.04</td>\n",
       "      <td>153.76</td>\n",
       "      <td>17.64</td>\n",
       "      <td>8.604444</td>\n",
       "      <td>247.537778</td>\n",
       "      <td>348.444444</td>\n",
       "    </tr>\n",
       "    <tr>\n",
       "      <th>3</th>\n",
       "      <td>45</td>\n",
       "      <td>43</td>\n",
       "      <td>87</td>\n",
       "      <td>37.617778</td>\n",
       "      <td>66.151111</td>\n",
       "      <td>1286.417778</td>\n",
       "      <td>10.24</td>\n",
       "      <td>57.76</td>\n",
       "      <td>295.84</td>\n",
       "      <td>8.604444</td>\n",
       "      <td>247.537778</td>\n",
       "      <td>348.444444</td>\n",
       "    </tr>\n",
       "    <tr>\n",
       "      <th>4</th>\n",
       "      <td>67</td>\n",
       "      <td>45</td>\n",
       "      <td>56</td>\n",
       "      <td>251.751111</td>\n",
       "      <td>37.617778</td>\n",
       "      <td>23.684444</td>\n",
       "      <td>353.44</td>\n",
       "      <td>92.16</td>\n",
       "      <td>190.44</td>\n",
       "      <td>8.604444</td>\n",
       "      <td>247.537778</td>\n",
       "      <td>348.444444</td>\n",
       "    </tr>\n",
       "  </tbody>\n",
       "</table>\n",
       "</div>"
      ],
      "text/plain": [
       "   Group1  Group2  Group3      g1_sst      g2_sst       g3_sst  g1_ssw  \\\n",
       "0      51      23      56    0.017778  791.484444    23.684444    7.84   \n",
       "1      45      43      76   37.617778   66.151111   618.351111   10.24   \n",
       "2      33      23      74  328.817778  791.484444   522.884444  231.04   \n",
       "3      45      43      87   37.617778   66.151111  1286.417778   10.24   \n",
       "4      67      45      56  251.751111   37.617778    23.684444  353.44   \n",
       "\n",
       "   g2_ssw  g3_ssw    g1_ssb      g2_ssb      g3_ssb  \n",
       "0  153.76  190.44  8.604444  247.537778  348.444444  \n",
       "1   57.76   38.44  8.604444  247.537778  348.444444  \n",
       "2  153.76   17.64  8.604444  247.537778  348.444444  \n",
       "3   57.76  295.84  8.604444  247.537778  348.444444  \n",
       "4   92.16  190.44  8.604444  247.537778  348.444444  "
      ]
     },
     "execution_count": 32,
     "metadata": {},
     "output_type": "execute_result"
    }
   ],
   "source": [
    "data['g1_ssb']=(data.Group1.mean()-grand_mean)**2\n",
    "data['g2_ssb']=(data.Group2.mean()-grand_mean)**2\n",
    "data['g3_ssb']=(data.Group3.mean()-grand_mean)**2\n",
    "data"
   ]
  },
  {
   "cell_type": "code",
   "execution_count": 33,
   "metadata": {},
   "outputs": [
    {
     "name": "stdout",
     "output_type": "stream",
     "text": [
      "Sum of Squares between groups, SSB=  3022.933333333333\n"
     ]
    }
   ],
   "source": [
    "ssb=data.g1_ssb.sum()+data.g2_ssb.sum()+data.g3_ssb.sum()\n",
    "print(\"Sum of Squares between groups, SSB= \",ssb)"
   ]
  },
  {
   "cell_type": "code",
   "execution_count": 34,
   "metadata": {},
   "outputs": [
    {
     "name": "stdout",
     "output_type": "stream",
     "text": [
      "4883.733333333333\n"
     ]
    }
   ],
   "source": [
    "sst=ssb+ssw\n",
    "print(sst)"
   ]
  },
  {
   "cell_type": "code",
   "execution_count": 35,
   "metadata": {},
   "outputs": [
    {
     "name": "stdout",
     "output_type": "stream",
     "text": [
      "Sum of Squares within groups, SSW=  1860.8\n",
      "Sum of Squares between groups, SSB=  3022.933333333333\n",
      "Total Sum of Squares, SST=  4883.733333333333\n"
     ]
    }
   ],
   "source": [
    "print(\"Sum of Squares within groups, SSW= \",ssw)\n",
    "print(\"Sum of Squares between groups, SSB= \",ssb)\n",
    "print(\"Total Sum of Squares, SST= \",sst)"
   ]
  },
  {
   "cell_type": "markdown",
   "metadata": {},
   "source": [
    "#### Step 4: Calculate the Degrees of Freedom"
   ]
  },
  {
   "cell_type": "code",
   "execution_count": 36,
   "metadata": {},
   "outputs": [
    {
     "name": "stdout",
     "output_type": "stream",
     "text": [
      "df(total)= 14\tdf(within)= 12\tdf(between)= 2\n"
     ]
    }
   ],
   "source": [
    "n=15 #total number of samples\n",
    "k=3 #total number of groups\n",
    "\n",
    "dft=n-1\n",
    "dfw =n-k \n",
    "dfb =k-1\n",
    "print(\"df(total)= \"+str(dft)+\"\\tdf(within)= \"+str(dfw)+\"\\tdf(between)= \"+str(dfb))"
   ]
  },
  {
   "cell_type": "markdown",
   "metadata": {},
   "source": [
    "#### Step 5: Calculate the Mean Squares\n",
    "Mean Square(between)=SS(between)/dfbetween\n",
    "Mean Square(within)=SS(within)/dfwithin"
   ]
  },
  {
   "cell_type": "code",
   "execution_count": 37,
   "metadata": {},
   "outputs": [
    {
     "name": "stdout",
     "output_type": "stream",
     "text": [
      "Mean Square Between, MS(between)= 1511.4666666666665\n",
      "Mean Square Within,MS(within)= 155.06666666666666\n"
     ]
    }
   ],
   "source": [
    "MSbetween=ssb/dfb\n",
    "MSwithin=ssw/dfw\n",
    "print(\"Mean Square Between, MS(between)= \"+str(MSbetween)+\"\\nMean Square Within,MS(within)= \"+str(MSwithin))"
   ]
  },
  {
   "cell_type": "markdown",
   "metadata": {},
   "source": [
    "#### Step 6: Calculate the F Statistic\n",
    "F=MS(between)/MS(within)"
   ]
  },
  {
   "cell_type": "code",
   "execution_count": 38,
   "metadata": {},
   "outputs": [
    {
     "name": "stdout",
     "output_type": "stream",
     "text": [
      "F statisitc =  9.747205503009457\n"
     ]
    }
   ],
   "source": [
    "F=MSbetween/MSwithin\n",
    "print(\"F statisitc = \",F)"
   ]
  },
  {
   "cell_type": "markdown",
   "metadata": {},
   "source": [
    "#### Step 7: Looking up F from table and stating Conclusion"
   ]
  },
  {
   "cell_type": "markdown",
   "metadata": {},
   "source": [
    "From the table of F distribution, the critical value of F for 0.05 significance and degrees of freedom of(df1 = 12 and df2 = 2) we have:\n",
    "\n",
    "F = 3.89\n",
    "\n",
    "Since the calculated(absolute value) of F is greater than the tabulated value, we reject the null hypothesis and conclude that at least two of the means are significantly different from each other."
   ]
  },
  {
   "cell_type": "markdown",
   "metadata": {},
   "source": [
    "Effect size\n",
    "\n",
    "η2=SSB/SST=3022.9/4883.7=0.62\n",
    "\n",
    "#### APA writeup\n",
    "\n",
    "F(2, 12)=9.75, p <0.05, η2=0.62."
   ]
  },
  {
   "cell_type": "markdown",
   "metadata": {},
   "source": [
    "***"
   ]
  },
  {
   "cell_type": "markdown",
   "metadata": {},
   "source": [
    "### Problem Statement 3: \n",
    " \n",
    "Calculate F Test for given 10, 20, 30, 40, 50 and 5,10,15, 20, 25. \n",
    " \n",
    "For 10, 20, 30, 40, 50: "
   ]
  },
  {
   "cell_type": "code",
   "execution_count": 39,
   "metadata": {},
   "outputs": [
    {
     "name": "stdout",
     "output_type": "stream",
     "text": [
      "Set1:  [10 20 30 40 50]\n",
      "Set2:  [ 5 10 15 20 25]\n"
     ]
    }
   ],
   "source": [
    "import numpy as np\n",
    "import pandas as pd\n",
    "set1=np.array([10,20,30,40,50])\n",
    "set2=np.array([5,10,15,20,25])\n",
    "print(\"Set1: \",set1)\n",
    "print(\"Set2: \",set2)"
   ]
  },
  {
   "cell_type": "code",
   "execution_count": 40,
   "metadata": {},
   "outputs": [
    {
     "name": "stdout",
     "output_type": "stream",
     "text": [
      "Mean of set1:  30.0\n",
      "Mean of set2:  15.0\n",
      "\n",
      "Standard Deviation of set1:  15.811388300841896\n",
      "Standard Deviation of set2:  7.905694150420948\n",
      " \n",
      "Variance of set1:  250.0\n",
      "Variance of set2:  62.5\n",
      "\n",
      "F_Test= Variance of set1/Variance of set2 = 250/62.5\n",
      "F Test value is  4.0\n"
     ]
    }
   ],
   "source": [
    "mean1=set1.mean()\n",
    "mean2=set2.mean()\n",
    "print(\"Mean of set1: \",mean1)\n",
    "print(\"Mean of set2: \",mean2)\n",
    "stdev1=np.std(set1,ddof=1)\n",
    "stdev2=np.std(set2,ddof=1)\n",
    "print(\"\\nStandard Deviation of set1: \",stdev1)\n",
    "print(\"Standard Deviation of set2: \",stdev2)\n",
    "var1=(stdev1)**2\n",
    "var2=(stdev2)**2\n",
    "print(\" \\nVariance of set1: \",var1)\n",
    "print(\"Variance of set2: \",var2)\n",
    "F_test=var1/var2\n",
    "print(\"\\nF_Test= Variance of set1/Variance of set2 = 250/62.5\")\n",
    "print(\"F Test value is \",F_test)"
   ]
  },
  {
   "cell_type": "markdown",
   "metadata": {},
   "source": [
    "***"
   ]
  }
 ],
 "metadata": {
  "kernelspec": {
   "display_name": "Python 3",
   "language": "python",
   "name": "python3"
  },
  "language_info": {
   "codemirror_mode": {
    "name": "ipython",
    "version": 3
   },
   "file_extension": ".py",
   "mimetype": "text/x-python",
   "name": "python",
   "nbconvert_exporter": "python",
   "pygments_lexer": "ipython3",
   "version": "3.7.1"
  }
 },
 "nbformat": 4,
 "nbformat_minor": 2
}
